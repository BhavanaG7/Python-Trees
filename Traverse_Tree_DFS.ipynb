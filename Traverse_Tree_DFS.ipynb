{
 "cells": [
  {
   "cell_type": "markdown",
   "metadata": {},
   "source": [
    "## Traverse a tree (depth first search)\n",
    "\n",
    "Traversing a tree means \"visiting\" all the nodes in the tree once.  Unlike an array or linked list, there's more than one way to walk through a tree, starting from the root node.  \n",
    "\n",
    "Traversing a tree is helpful for printing out all the values stored in the tree, as well as searching for a value in a tree, inserting into or deleting values from the tree.  There's depth first search and breadth first search.\n",
    "\n",
    "Depth first search has 3 types: pre-order, in-order, and post-order.  \n",
    "\n",
    "Let's walk through pre-order traversal by hand first, and then try it out in code."
   ]
  },
  {
   "cell_type": "markdown",
   "metadata": {},
   "source": [
    "## Creating a sample tree\n",
    "\n",
    "We'll create a tree that looks like the following:"
   ]
  },
  {
   "cell_type": "markdown",
   "metadata": {},
   "source": [
    "![tree image](tree_01.png \"Tree\")"
   ]
  },
  {
   "cell_type": "code",
   "execution_count": 92,
   "metadata": {},
   "outputs": [],
   "source": [
    "# this code makes the tree that we'll traverse\n",
    "\n",
    "class Node(object):\n",
    "        \n",
    "    def __init__(self,value = None):\n",
    "        self.value = value\n",
    "        self.left = None\n",
    "        self.right = None\n",
    "        \n",
    "    def set_value(self,value):\n",
    "        self.value = value\n",
    "        \n",
    "    def get_value(self):\n",
    "        return self.value\n",
    "        \n",
    "    def set_left_child(self,left):\n",
    "        self.left = left\n",
    "        \n",
    "    def set_right_child(self, right):\n",
    "        self.right = right\n",
    "        \n",
    "    def get_left_child(self):\n",
    "        return self.left\n",
    "    \n",
    "    def get_right_child(self):\n",
    "        return self.right\n",
    "\n",
    "    def has_left_child(self):\n",
    "        return self.left != None\n",
    "    \n",
    "    def has_right_child(self):\n",
    "        return self.right != None\n",
    "    \n",
    "    # define __repr_ to decide what a print statement displays for a Node object\n",
    "    def __repr__(self):\n",
    "        return f\"Node({self.get_value()})\"\n",
    "    \n",
    "    def __str__(self):\n",
    "        return f\"Node({self.get_value()})\"\n",
    "    \n",
    "    \n",
    "class Tree():\n",
    "    def __init__(self, value=None):\n",
    "        self.root = Node(value)\n",
    "        \n",
    "    def get_root(self):\n",
    "        return self.root"
   ]
  },
  {
   "cell_type": "code",
   "execution_count": 93,
   "metadata": {},
   "outputs": [
    {
     "output_type": "stream",
     "name": "stdout",
     "text": "Node(apple)\n"
    }
   ],
   "source": [
    "# create a tree and add some nodes\n",
    "tree = Tree(\"apple\")\n",
    "tree.get_root().set_left_child(Node(\"banana\"))\n",
    "tree.get_root().set_right_child(Node(\"cherry\"))\n",
    "tree.get_root().get_left_child().set_left_child(Node(\"dates\"))\n",
    "print(tree.get_root())"
   ]
  },
  {
   "cell_type": "markdown",
   "metadata": {},
   "source": [
    "# PRE-ORDER TRAVERSAL\n",
    "\n",
    "### write down the node as soon as you see it before moving to other node.Check left first before right.\n",
    "### parent->left->right"
   ]
  },
  {
   "cell_type": "code",
   "execution_count": 94,
   "metadata": {},
   "outputs": [],
   "source": [
    "def pre_order(tree):\n",
    "    visited_node=list()\n",
    "    root=tree.get_root()\n",
    "\n",
    "    def traverse(node):\n",
    "        if node:\n",
    "            #value\n",
    "            visited_node.append(node.get_value())\n",
    "            #left traverse\n",
    "            traverse(node.get_left_child())\n",
    "            #right traverse\n",
    "            traverse(node.get_right_child())\n",
    "\n",
    "    traverse(root)    \n",
    "    return visited_node"
   ]
  },
  {
   "cell_type": "code",
   "execution_count": 95,
   "metadata": {},
   "outputs": [
    {
     "output_type": "stream",
     "name": "stdout",
     "text": "['apple', 'banana', 'dates', 'cherry']\n"
    }
   ],
   "source": [
    "print(pre_order(tree))"
   ]
  },
  {
   "cell_type": "markdown",
   "metadata": {},
   "source": [
    "# IN-ORDER TRAVERSAL\n",
    "\n",
    "### We want to traverse the left subtree, then visit the node, and then traverse the right subtree.\n",
    "### LEFT->PARENT->RIGHT\n"
   ]
  },
  {
   "cell_type": "code",
   "execution_count": 100,
   "metadata": {},
   "outputs": [],
   "source": [
    "# define in-order traversal\n",
    "def in_order(tree):\n",
    "    visit_order=list()\n",
    "    root=tree.get_root()\n",
    "\n",
    "    def traverse(node):\n",
    "        if node:\n",
    "            #left\n",
    "            traverse(node.get_left_child())\n",
    "            #value\n",
    "            visit_order.append(node.get_value())\n",
    "            #right\n",
    "            traverse(node.get_right_child())\n",
    "\n",
    "    traverse(root)\n",
    "    return visit_order"
   ]
  },
  {
   "cell_type": "code",
   "execution_count": 101,
   "metadata": {},
   "outputs": [
    {
     "output_type": "execute_result",
     "data": {
      "text/plain": "['dates', 'banana', 'apple', 'cherry']"
     },
     "metadata": {},
     "execution_count": 101
    }
   ],
   "source": [
    "# check solution: should get: ['dates', 'banana', 'apple', 'cherry']\n",
    "in_order(tree)"
   ]
  },
  {
   "cell_type": "markdown",
   "metadata": {},
   "source": [
    "# POST-ORDER TRAVERSAL\n",
    "\n",
    "### Traverse left subtree, then right subtree, and then visit the node.\n",
    "### LEFT->RIGHT->PARENT"
   ]
  },
  {
   "cell_type": "code",
   "execution_count": 104,
   "metadata": {},
   "outputs": [],
   "source": [
    "# define post_order traversal\n",
    "def post_order(tree):\n",
    "    visit_order=list()\n",
    "    root=tree.get_root()\n",
    "\n",
    "    def traverse(node):\n",
    "        if node:\n",
    "            #left\n",
    "            traverse(node.get_left_child())\n",
    "            #right\n",
    "            traverse(node.get_right_child())\n",
    "            #parent\n",
    "            visit_order.append(node.get_value())\n",
    "\n",
    "    traverse(root)\n",
    "    return visit_order"
   ]
  },
  {
   "cell_type": "code",
   "execution_count": 105,
   "metadata": {},
   "outputs": [
    {
     "output_type": "execute_result",
     "data": {
      "text/plain": "['dates', 'banana', 'cherry', 'apple']"
     },
     "metadata": {},
     "execution_count": 105
    }
   ],
   "source": [
    "# check solution: should get: ['dates', 'banana', 'cherry', 'apple']\n",
    "post_order(tree)"
   ]
  },
  {
   "cell_type": "code",
   "execution_count": null,
   "metadata": {},
   "outputs": [],
   "source": []
  }
 ],
 "metadata": {
  "kernelspec": {
   "display_name": "Python 3.8.0 64-bit",
   "language": "python",
   "name": "python38064bit7d262878fc30456bbc2bd3441e5c80ec"
  },
  "language_info": {
   "codemirror_mode": {
    "name": "ipython",
    "version": 3
   },
   "file_extension": ".py",
   "mimetype": "text/x-python",
   "name": "python",
   "nbconvert_exporter": "python",
   "pygments_lexer": "ipython3",
   "version": "3.8.0-final"
  }
 },
 "nbformat": 4,
 "nbformat_minor": 2
}
